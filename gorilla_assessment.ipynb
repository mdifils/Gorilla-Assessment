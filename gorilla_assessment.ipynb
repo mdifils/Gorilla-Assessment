{
 "cells": [
  {
   "cell_type": "markdown",
   "metadata": {},
   "source": [
    "## Importing necessary packages"
   ]
  },
  {
   "cell_type": "code",
   "execution_count": 1,
   "metadata": {},
   "outputs": [],
   "source": [
    "import time\n",
    "import random\n",
    "from typing import List\n",
    "from datetime import datetime, timedelta\n",
    "import numpy as np\n",
    "import pandas as pd"
   ]
  },
  {
   "cell_type": "markdown",
   "metadata": {},
   "source": [
    "## Loading data into dataframes\n",
    "\n",
    "The dataset is an excel file with 3 sheets. So each sheet will be loaded as a\n",
    "dataframe."
   ]
  },
  {
   "cell_type": "code",
   "execution_count": 4,
   "metadata": {},
   "outputs": [
    {
     "data": {
      "text/html": [
       "<div>\n",
       "<style scoped>\n",
       "    .dataframe tbody tr th:only-of-type {\n",
       "        vertical-align: middle;\n",
       "    }\n",
       "\n",
       "    .dataframe tbody tr th {\n",
       "        vertical-align: top;\n",
       "    }\n",
       "\n",
       "    .dataframe thead th {\n",
       "        text-align: right;\n",
       "    }\n",
       "</style>\n",
       "<table border=\"1\" class=\"dataframe\">\n",
       "  <thead>\n",
       "    <tr style=\"text-align: right;\">\n",
       "      <th></th>\n",
       "      <th>meter_id</th>\n",
       "      <th>aq_kwh</th>\n",
       "      <th>exit_zone</th>\n",
       "    </tr>\n",
       "  </thead>\n",
       "  <tbody>\n",
       "    <tr>\n",
       "      <th>0</th>\n",
       "      <td>14676236</td>\n",
       "      <td>28978</td>\n",
       "      <td>EA1</td>\n",
       "    </tr>\n",
       "    <tr>\n",
       "      <th>1</th>\n",
       "      <td>34509937</td>\n",
       "      <td>78324</td>\n",
       "      <td>SO1</td>\n",
       "    </tr>\n",
       "    <tr>\n",
       "      <th>2</th>\n",
       "      <td>50264822</td>\n",
       "      <td>265667</td>\n",
       "      <td>NT1</td>\n",
       "    </tr>\n",
       "    <tr>\n",
       "      <th>3</th>\n",
       "      <td>88357331</td>\n",
       "      <td>484399</td>\n",
       "      <td>SE2</td>\n",
       "    </tr>\n",
       "  </tbody>\n",
       "</table>\n",
       "</div>"
      ],
      "text/plain": [
       "   meter_id  aq_kwh exit_zone\n",
       "0  14676236   28978       EA1\n",
       "1  34509937   78324       SO1\n",
       "2  50264822  265667       NT1\n",
       "3  88357331  484399       SE2"
      ]
     },
     "execution_count": 4,
     "metadata": {},
     "output_type": "execute_result"
    }
   ],
   "source": [
    "# Loading meters table\n",
    "meter_table = pd.read_excel('gorilla_test_data.xlsx', sheet_name='meter_list')\n",
    "# displaying all rows\n",
    "meter_table"
   ]
  },
  {
   "cell_type": "markdown",
   "metadata": {},
   "source": [
    "NOTICE that every **meter ID** is linked to an **exit zone** and also to an \n",
    "**annual quantity**."
   ]
  },
  {
   "cell_type": "code",
   "execution_count": 10,
   "metadata": {},
   "outputs": [
    {
     "name": "stdout",
     "output_type": "stream",
     "text": [
      "<class 'pandas.core.frame.DataFrame'>\n",
      "RangeIndex: 4 entries, 0 to 3\n",
      "Data columns (total 3 columns):\n",
      " #   Column     Non-Null Count  Dtype \n",
      "---  ------     --------------  ----- \n",
      " 0   meter_id   4 non-null      int64 \n",
      " 1   aq_kwh     4 non-null      int64 \n",
      " 2   exit_zone  4 non-null      object\n",
      "dtypes: int64(2), object(1)\n",
      "memory usage: 224.0+ bytes\n"
     ]
    }
   ],
   "source": [
    "# meter_table infos\n",
    "meter_table.info()"
   ]
  },
  {
   "cell_type": "markdown",
   "metadata": {},
   "source": [
    "**meter_id** and **aq_kwh** colmns are integers. **exit_zone** is a string."
   ]
  },
  {
   "cell_type": "code",
   "execution_count": 5,
   "metadata": {},
   "outputs": [
    {
     "name": "stdout",
     "output_type": "stream",
     "text": [
      "{14676236: 'EA1', 34509937: 'SO1', 50264822: 'NT1', 88357331: 'SE2'}\n"
     ]
    }
   ],
   "source": [
    "# Mapping meter ID to exit zone\n",
    "meter_zone_dict = {row.meter_id: row.exit_zone for row in meter_table.itertuples()}\n",
    "print(meter_zone_dict)"
   ]
  },
  {
   "cell_type": "code",
   "execution_count": 6,
   "metadata": {},
   "outputs": [
    {
     "name": "stdout",
     "output_type": "stream",
     "text": [
      "{14676236: 28978, 34509937: 78324, 50264822: 265667, 88357331: 484399}\n"
     ]
    }
   ],
   "source": [
    "# Mapping meter ID to AQ\n",
    "meter_aq_dict = {row.meter_id: row.aq_kwh for row in meter_table.itertuples()}\n",
    "print(meter_aq_dict)"
   ]
  },
  {
   "cell_type": "code",
   "execution_count": 3,
   "metadata": {},
   "outputs": [
    {
     "data": {
      "text/html": [
       "<div>\n",
       "<style scoped>\n",
       "    .dataframe tbody tr th:only-of-type {\n",
       "        vertical-align: middle;\n",
       "    }\n",
       "\n",
       "    .dataframe tbody tr th {\n",
       "        vertical-align: top;\n",
       "    }\n",
       "\n",
       "    .dataframe thead th {\n",
       "        text-align: right;\n",
       "    }\n",
       "</style>\n",
       "<table border=\"1\" class=\"dataframe\">\n",
       "  <thead>\n",
       "    <tr style=\"text-align: right;\">\n",
       "      <th></th>\n",
       "      <th>date</th>\n",
       "      <th>exit_zone</th>\n",
       "      <th>aq_min_kwh</th>\n",
       "      <th>aq_max_kwh</th>\n",
       "      <th>rate_p_per_kwh</th>\n",
       "    </tr>\n",
       "  </thead>\n",
       "  <tbody>\n",
       "    <tr>\n",
       "      <th>0</th>\n",
       "      <td>2020-04-01</td>\n",
       "      <td>EA1</td>\n",
       "      <td>0</td>\n",
       "      <td>73200.0</td>\n",
       "      <td>0.2652</td>\n",
       "    </tr>\n",
       "    <tr>\n",
       "      <th>1</th>\n",
       "      <td>2020-04-01</td>\n",
       "      <td>EA1</td>\n",
       "      <td>73200</td>\n",
       "      <td>732000.0</td>\n",
       "      <td>0.1980</td>\n",
       "    </tr>\n",
       "    <tr>\n",
       "      <th>2</th>\n",
       "      <td>2020-04-01</td>\n",
       "      <td>EA1</td>\n",
       "      <td>732000</td>\n",
       "      <td>NaN</td>\n",
       "      <td>0.2875</td>\n",
       "    </tr>\n",
       "    <tr>\n",
       "      <th>3</th>\n",
       "      <td>2020-04-01</td>\n",
       "      <td>EA2</td>\n",
       "      <td>0</td>\n",
       "      <td>73200.0</td>\n",
       "      <td>0.2970</td>\n",
       "    </tr>\n",
       "    <tr>\n",
       "      <th>4</th>\n",
       "      <td>2020-04-01</td>\n",
       "      <td>EA2</td>\n",
       "      <td>73200</td>\n",
       "      <td>732000.0</td>\n",
       "      <td>0.1524</td>\n",
       "    </tr>\n",
       "  </tbody>\n",
       "</table>\n",
       "</div>"
      ],
      "text/plain": [
       "        date exit_zone  aq_min_kwh  aq_max_kwh  rate_p_per_kwh\n",
       "0 2020-04-01       EA1           0     73200.0          0.2652\n",
       "1 2020-04-01       EA1       73200    732000.0          0.1980\n",
       "2 2020-04-01       EA1      732000         NaN          0.2875\n",
       "3 2020-04-01       EA2           0     73200.0          0.2970\n",
       "4 2020-04-01       EA2       73200    732000.0          0.1524"
      ]
     },
     "execution_count": 3,
     "metadata": {},
     "output_type": "execute_result"
    }
   ],
   "source": [
    "# Loading rate table\n",
    "rate_table = pd.read_excel('gorilla_test_data.xlsx', sheet_name='rate_table')\n",
    "# displaying first 5 rows\n",
    "rate_table.head()"
   ]
  },
  {
   "cell_type": "code",
   "execution_count": 8,
   "metadata": {},
   "outputs": [
    {
     "name": "stdout",
     "output_type": "stream",
     "text": [
      "<class 'pandas.core.frame.DataFrame'>\n",
      "RangeIndex: 1140 entries, 0 to 1139\n",
      "Data columns (total 5 columns):\n",
      " #   Column          Non-Null Count  Dtype         \n",
      "---  ------          --------------  -----         \n",
      " 0   date            1140 non-null   datetime64[ns]\n",
      " 1   exit_zone       1140 non-null   object        \n",
      " 2   aq_min_kwh      1140 non-null   int64         \n",
      " 3   aq_max_kwh      760 non-null    float64       \n",
      " 4   rate_p_per_kwh  1140 non-null   float64       \n",
      "dtypes: datetime64[ns](1), float64(2), int64(1), object(1)\n",
      "memory usage: 44.7+ KB\n"
     ]
    }
   ],
   "source": [
    "# rate_table infos\n",
    "rate_table.info()"
   ]
  },
  {
   "cell_type": "code",
   "execution_count": 19,
   "metadata": {},
   "outputs": [
    {
     "data": {
      "text/plain": [
       "False"
      ]
     },
     "execution_count": 19,
     "metadata": {},
     "output_type": "execute_result"
    }
   ],
   "source": [
    "# Checking for duplicated rows\n",
    "rate_table.duplicated().any()"
   ]
  },
  {
   "cell_type": "code",
   "execution_count": 7,
   "metadata": {},
   "outputs": [
    {
     "data": {
      "text/html": [
       "<div>\n",
       "<style scoped>\n",
       "    .dataframe tbody tr th:only-of-type {\n",
       "        vertical-align: middle;\n",
       "    }\n",
       "\n",
       "    .dataframe tbody tr th {\n",
       "        vertical-align: top;\n",
       "    }\n",
       "\n",
       "    .dataframe thead th {\n",
       "        text-align: right;\n",
       "    }\n",
       "</style>\n",
       "<table border=\"1\" class=\"dataframe\">\n",
       "  <thead>\n",
       "    <tr style=\"text-align: right;\">\n",
       "      <th></th>\n",
       "      <th>meter_id</th>\n",
       "      <th>date</th>\n",
       "      <th>kwh</th>\n",
       "    </tr>\n",
       "  </thead>\n",
       "  <tbody>\n",
       "    <tr>\n",
       "      <th>0</th>\n",
       "      <td>14676236</td>\n",
       "      <td>2020-06-01</td>\n",
       "      <td>22.070768</td>\n",
       "    </tr>\n",
       "    <tr>\n",
       "      <th>1</th>\n",
       "      <td>14676236</td>\n",
       "      <td>2020-06-02</td>\n",
       "      <td>19.170720</td>\n",
       "    </tr>\n",
       "    <tr>\n",
       "      <th>2</th>\n",
       "      <td>14676236</td>\n",
       "      <td>2020-06-03</td>\n",
       "      <td>23.555111</td>\n",
       "    </tr>\n",
       "    <tr>\n",
       "      <th>3</th>\n",
       "      <td>14676236</td>\n",
       "      <td>2020-06-04</td>\n",
       "      <td>18.220712</td>\n",
       "    </tr>\n",
       "    <tr>\n",
       "      <th>4</th>\n",
       "      <td>14676236</td>\n",
       "      <td>2020-06-05</td>\n",
       "      <td>14.196134</td>\n",
       "    </tr>\n",
       "  </tbody>\n",
       "</table>\n",
       "</div>"
      ],
      "text/plain": [
       "   meter_id       date        kwh\n",
       "0  14676236 2020-06-01  22.070768\n",
       "1  14676236 2020-06-02  19.170720\n",
       "2  14676236 2020-06-03  23.555111\n",
       "3  14676236 2020-06-04  18.220712\n",
       "4  14676236 2020-06-05  14.196134"
      ]
     },
     "execution_count": 7,
     "metadata": {},
     "output_type": "execute_result"
    }
   ],
   "source": [
    "# Loading forecast table\n",
    "forecast_table = pd.read_excel('gorilla_test_data.xlsx', sheet_name='forecast_table')\n",
    "# displaying first 5 rows\n",
    "forecast_table.head()"
   ]
  },
  {
   "cell_type": "code",
   "execution_count": 16,
   "metadata": {},
   "outputs": [
    {
     "name": "stdout",
     "output_type": "stream",
     "text": [
      "<class 'pandas.core.frame.DataFrame'>\n",
      "RangeIndex: 3412 entries, 0 to 3411\n",
      "Data columns (total 3 columns):\n",
      " #   Column    Non-Null Count  Dtype         \n",
      "---  ------    --------------  -----         \n",
      " 0   meter_id  3412 non-null   int64         \n",
      " 1   date      3412 non-null   datetime64[ns]\n",
      " 2   kwh       3412 non-null   float64       \n",
      "dtypes: datetime64[ns](1), float64(1), int64(1)\n",
      "memory usage: 80.1 KB\n"
     ]
    }
   ],
   "source": [
    "# forecast_table infos\n",
    "forecast_table.info()"
   ]
  },
  {
   "cell_type": "markdown",
   "metadata": {},
   "source": [
    "Notice that **date** column is a datetime but not a string."
   ]
  },
  {
   "cell_type": "code",
   "execution_count": 18,
   "metadata": {},
   "outputs": [
    {
     "data": {
      "text/plain": [
       "False"
      ]
     },
     "execution_count": 18,
     "metadata": {},
     "output_type": "execute_result"
    }
   ],
   "source": [
    "# Check duplicated rows\n",
    "forecast_table.duplicated().any()"
   ]
  },
  {
   "cell_type": "markdown",
   "metadata": {},
   "source": [
    "## Finding the correct subset of rates corresponding to each meter\n",
    "\n",
    "For each meter (**meter_id**) we have the correct exit zone and annual quantity.  \n",
    "In the rate table, the AQ band has been determined with the assumption that : \n",
    "**aq_mim_kwh <= AQ < aq_max_kwh**"
   ]
  },
  {
   "cell_type": "code",
   "execution_count": 20,
   "metadata": {},
   "outputs": [],
   "source": [
    "def get_rates_per_meter(\n",
    "    meter_id: int,\n",
    "    meter_zone_dict=meter_zone_dict,\n",
    "    meter_aq_dict=meter_aq_dict,\n",
    "    rate_table=rate_table\n",
    ") -> pd.DataFrame:\n",
    "    \"\"\"\n",
    "    This function finds the correct subset of rates for each meter.\n",
    "    \"\"\"\n",
    "    cond = ((rate_table.exit_zone == meter_zone_dict[meter_id]) & \n",
    "            (rate_table.aq_min_kwh <= meter_aq_dict[meter_id]) & \n",
    "            (rate_table.aq_max_kwh > meter_aq_dict[meter_id]))\n",
    "    rate_per_meter_table = rate_table[cond]\n",
    "\n",
    "    return rate_per_meter_table"
   ]
  },
  {
   "cell_type": "code",
   "execution_count": 22,
   "metadata": {},
   "outputs": [
    {
     "data": {
      "text/html": [
       "<div>\n",
       "<style scoped>\n",
       "    .dataframe tbody tr th:only-of-type {\n",
       "        vertical-align: middle;\n",
       "    }\n",
       "\n",
       "    .dataframe tbody tr th {\n",
       "        vertical-align: top;\n",
       "    }\n",
       "\n",
       "    .dataframe thead th {\n",
       "        text-align: right;\n",
       "    }\n",
       "</style>\n",
       "<table border=\"1\" class=\"dataframe\">\n",
       "  <thead>\n",
       "    <tr style=\"text-align: right;\">\n",
       "      <th></th>\n",
       "      <th>date</th>\n",
       "      <th>exit_zone</th>\n",
       "      <th>aq_min_kwh</th>\n",
       "      <th>aq_max_kwh</th>\n",
       "      <th>rate_p_per_kwh</th>\n",
       "    </tr>\n",
       "  </thead>\n",
       "  <tbody>\n",
       "    <tr>\n",
       "      <th>0</th>\n",
       "      <td>2020-04-01</td>\n",
       "      <td>EA1</td>\n",
       "      <td>0</td>\n",
       "      <td>73200.0</td>\n",
       "      <td>0.2652</td>\n",
       "    </tr>\n",
       "    <tr>\n",
       "      <th>114</th>\n",
       "      <td>2020-10-01</td>\n",
       "      <td>EA1</td>\n",
       "      <td>0</td>\n",
       "      <td>73200.0</td>\n",
       "      <td>0.2970</td>\n",
       "    </tr>\n",
       "    <tr>\n",
       "      <th>228</th>\n",
       "      <td>2021-04-01</td>\n",
       "      <td>EA1</td>\n",
       "      <td>0</td>\n",
       "      <td>73200.0</td>\n",
       "      <td>0.3327</td>\n",
       "    </tr>\n",
       "    <tr>\n",
       "      <th>342</th>\n",
       "      <td>2021-10-01</td>\n",
       "      <td>EA1</td>\n",
       "      <td>0</td>\n",
       "      <td>73200.0</td>\n",
       "      <td>0.3726</td>\n",
       "    </tr>\n",
       "    <tr>\n",
       "      <th>456</th>\n",
       "      <td>2022-04-01</td>\n",
       "      <td>EA1</td>\n",
       "      <td>0</td>\n",
       "      <td>73200.0</td>\n",
       "      <td>0.4173</td>\n",
       "    </tr>\n",
       "    <tr>\n",
       "      <th>570</th>\n",
       "      <td>2022-10-01</td>\n",
       "      <td>EA1</td>\n",
       "      <td>0</td>\n",
       "      <td>73200.0</td>\n",
       "      <td>0.4674</td>\n",
       "    </tr>\n",
       "    <tr>\n",
       "      <th>684</th>\n",
       "      <td>2023-04-01</td>\n",
       "      <td>EA1</td>\n",
       "      <td>0</td>\n",
       "      <td>73200.0</td>\n",
       "      <td>0.5235</td>\n",
       "    </tr>\n",
       "    <tr>\n",
       "      <th>798</th>\n",
       "      <td>2023-10-01</td>\n",
       "      <td>EA1</td>\n",
       "      <td>0</td>\n",
       "      <td>73200.0</td>\n",
       "      <td>0.5863</td>\n",
       "    </tr>\n",
       "    <tr>\n",
       "      <th>912</th>\n",
       "      <td>2024-04-01</td>\n",
       "      <td>EA1</td>\n",
       "      <td>0</td>\n",
       "      <td>73200.0</td>\n",
       "      <td>0.6566</td>\n",
       "    </tr>\n",
       "    <tr>\n",
       "      <th>1026</th>\n",
       "      <td>2024-10-01</td>\n",
       "      <td>EA1</td>\n",
       "      <td>0</td>\n",
       "      <td>73200.0</td>\n",
       "      <td>0.7354</td>\n",
       "    </tr>\n",
       "  </tbody>\n",
       "</table>\n",
       "</div>"
      ],
      "text/plain": [
       "           date exit_zone  aq_min_kwh  aq_max_kwh  rate_p_per_kwh\n",
       "0    2020-04-01       EA1           0     73200.0          0.2652\n",
       "114  2020-10-01       EA1           0     73200.0          0.2970\n",
       "228  2021-04-01       EA1           0     73200.0          0.3327\n",
       "342  2021-10-01       EA1           0     73200.0          0.3726\n",
       "456  2022-04-01       EA1           0     73200.0          0.4173\n",
       "570  2022-10-01       EA1           0     73200.0          0.4674\n",
       "684  2023-04-01       EA1           0     73200.0          0.5235\n",
       "798  2023-10-01       EA1           0     73200.0          0.5863\n",
       "912  2024-04-01       EA1           0     73200.0          0.6566\n",
       "1026 2024-10-01       EA1           0     73200.0          0.7354"
      ]
     },
     "execution_count": 22,
     "metadata": {},
     "output_type": "execute_result"
    }
   ],
   "source": [
    "rate_per_meter_table = get_rates_per_meter(meter_id=14676236)\n",
    "rate_per_meter_table"
   ]
  },
  {
   "cell_type": "markdown",
   "metadata": {},
   "source": [
    "The rates that determine gas transportation charges generally change twice a \n",
    "year in April and October:  \n",
    "1. **2020-04-01 - 2020-09-30** ----------> 0.2652\n",
    "2. **2020-10-01 - 2021-03-31** ----------> 0.2970\n",
    "3. **2021-04-01 - 2021-09-30** ----------> 0.3327\n",
    "4. **2021-10-01 - 2022-03-31** ----------> 0.3726\n",
    "5. **2022-04-01 - 2022-09-30** ----------> 0.4173\n",
    "6. **2022-10-01 - 2023-03-31** ----------> 0.4674\n",
    "7. **2023-04-01 - 2023-09-31** ----------> 0.5235\n",
    "8. **2023-10-01 - 2024-03-31** ----------> 0.5863\n",
    "9. **2024-04-01 - 2024-09-30** ----------> 0.6566\n",
    "10. **2024-10-01 - 2025-03-31** ----------> 0.7354"
   ]
  },
  {
   "cell_type": "markdown",
   "metadata": {},
   "source": [
    "## Finding the rate for each meter and day"
   ]
  },
  {
   "cell_type": "code",
   "execution_count": 27,
   "metadata": {},
   "outputs": [],
   "source": [
    "def get_rate(\n",
    "    meter_id: int,\n",
    "    date: datetime\n",
    ") -> float:\n",
    "    \"\"\"\n",
    "    - This function finds the rate for each meter and day.\n",
    "    \"\"\"\n",
    "    \n",
    "    rate_per_meter_table = get_rates_per_meter(meter_id)\n",
    "\n",
    "    if datetime(2020, 4, 1) <= date < datetime(2020, 9, 30):\n",
    "        return rate_per_meter_table.iloc[0, 4]\n",
    "    if datetime(2020, 10, 1) <= date < datetime(2021, 3, 31):\n",
    "        return rate_per_meter_table.iloc[1, 4]\n",
    "    if datetime(2021, 4, 1) <= date < datetime(2021, 9, 30):\n",
    "        return rate_per_meter_table.iloc[2, 4]\n",
    "    if datetime(2021, 10, 1) <= date < datetime(2022, 3, 31):\n",
    "        return rate_per_meter_table.iloc[3, 4]\n",
    "    if datetime(2022, 4, 1) <= date < datetime(2022, 9, 30):\n",
    "        return rate_per_meter_table.iloc[4, 4]\n",
    "    if datetime(2022, 10, 1) <= date < datetime(2023, 3, 31):\n",
    "        return rate_per_meter_table.iloc[5, 4]\n",
    "    if datetime(2023, 4, 1) <= date < datetime(2023, 9, 30):\n",
    "        return rate_per_meter_table.iloc[6, 4]\n",
    "    if datetime(2023, 10, 1) <= date < datetime(2024, 3, 31):\n",
    "        return rate_per_meter_table.iloc[7, 4]\n",
    "    if datetime(2024, 4, 1) <= date < datetime(2024, 9, 30):\n",
    "        return rate_per_meter_table.iloc[8, 4]\n",
    "    if datetime(2024, 10, 1) <= date < datetime(2025, 3, 31):\n",
    "        return rate_per_meter_table.iloc[9, 4]"
   ]
  },
  {
   "cell_type": "code",
   "execution_count": 28,
   "metadata": {},
   "outputs": [
    {
     "data": {
      "text/plain": [
       "0.3726"
      ]
     },
     "execution_count": 28,
     "metadata": {},
     "output_type": "execute_result"
    }
   ],
   "source": [
    "get_rate(14676236, datetime(2022, 2, 27))"
   ]
  },
  {
   "cell_type": "markdown",
   "metadata": {},
   "source": [
    "## Adding rate column into forecast table"
   ]
  },
  {
   "cell_type": "code",
   "execution_count": 29,
   "metadata": {},
   "outputs": [],
   "source": [
    "forecast_table['rate'] = np.vectorize(get_rate, otypes=[float])(forecast_table['meter_id'], forecast_table['date'])"
   ]
  },
  {
   "cell_type": "code",
   "execution_count": 30,
   "metadata": {},
   "outputs": [
    {
     "data": {
      "text/html": [
       "<div>\n",
       "<style scoped>\n",
       "    .dataframe tbody tr th:only-of-type {\n",
       "        vertical-align: middle;\n",
       "    }\n",
       "\n",
       "    .dataframe tbody tr th {\n",
       "        vertical-align: top;\n",
       "    }\n",
       "\n",
       "    .dataframe thead th {\n",
       "        text-align: right;\n",
       "    }\n",
       "</style>\n",
       "<table border=\"1\" class=\"dataframe\">\n",
       "  <thead>\n",
       "    <tr style=\"text-align: right;\">\n",
       "      <th></th>\n",
       "      <th>meter_id</th>\n",
       "      <th>date</th>\n",
       "      <th>kwh</th>\n",
       "      <th>rate</th>\n",
       "    </tr>\n",
       "  </thead>\n",
       "  <tbody>\n",
       "    <tr>\n",
       "      <th>0</th>\n",
       "      <td>14676236</td>\n",
       "      <td>2020-06-01</td>\n",
       "      <td>22.070768</td>\n",
       "      <td>0.2652</td>\n",
       "    </tr>\n",
       "    <tr>\n",
       "      <th>1</th>\n",
       "      <td>14676236</td>\n",
       "      <td>2020-06-02</td>\n",
       "      <td>19.170720</td>\n",
       "      <td>0.2652</td>\n",
       "    </tr>\n",
       "    <tr>\n",
       "      <th>2</th>\n",
       "      <td>14676236</td>\n",
       "      <td>2020-06-03</td>\n",
       "      <td>23.555111</td>\n",
       "      <td>0.2652</td>\n",
       "    </tr>\n",
       "    <tr>\n",
       "      <th>3</th>\n",
       "      <td>14676236</td>\n",
       "      <td>2020-06-04</td>\n",
       "      <td>18.220712</td>\n",
       "      <td>0.2652</td>\n",
       "    </tr>\n",
       "    <tr>\n",
       "      <th>4</th>\n",
       "      <td>14676236</td>\n",
       "      <td>2020-06-05</td>\n",
       "      <td>14.196134</td>\n",
       "      <td>0.2652</td>\n",
       "    </tr>\n",
       "  </tbody>\n",
       "</table>\n",
       "</div>"
      ],
      "text/plain": [
       "   meter_id       date        kwh    rate\n",
       "0  14676236 2020-06-01  22.070768  0.2652\n",
       "1  14676236 2020-06-02  19.170720  0.2652\n",
       "2  14676236 2020-06-03  23.555111  0.2652\n",
       "3  14676236 2020-06-04  18.220712  0.2652\n",
       "4  14676236 2020-06-05  14.196134  0.2652"
      ]
     },
     "execution_count": 30,
     "metadata": {},
     "output_type": "execute_result"
    }
   ],
   "source": [
    "forecast_table.head()"
   ]
  },
  {
   "cell_type": "markdown",
   "metadata": {},
   "source": [
    "## Calculating the daily cost\n",
    "\n",
    "The daily charge is calculated by finding the correct rate for each meter and day \n",
    "in the forecast and multiplying this rate (in p/kWh) with the day's forecast (in kWh)."
   ]
  },
  {
   "cell_type": "code",
   "execution_count": 31,
   "metadata": {},
   "outputs": [],
   "source": [
    "# Calculate the cost per day for each meter\n",
    "forecast_table['cost_per_day'] = np.vectorize(lambda x,y: x*y, otypes=[float])(forecast_table['kwh'], forecast_table['rate'])"
   ]
  },
  {
   "cell_type": "code",
   "execution_count": 32,
   "metadata": {},
   "outputs": [
    {
     "data": {
      "text/html": [
       "<div>\n",
       "<style scoped>\n",
       "    .dataframe tbody tr th:only-of-type {\n",
       "        vertical-align: middle;\n",
       "    }\n",
       "\n",
       "    .dataframe tbody tr th {\n",
       "        vertical-align: top;\n",
       "    }\n",
       "\n",
       "    .dataframe thead th {\n",
       "        text-align: right;\n",
       "    }\n",
       "</style>\n",
       "<table border=\"1\" class=\"dataframe\">\n",
       "  <thead>\n",
       "    <tr style=\"text-align: right;\">\n",
       "      <th></th>\n",
       "      <th>meter_id</th>\n",
       "      <th>date</th>\n",
       "      <th>kwh</th>\n",
       "      <th>rate</th>\n",
       "      <th>cost_per_day</th>\n",
       "    </tr>\n",
       "  </thead>\n",
       "  <tbody>\n",
       "    <tr>\n",
       "      <th>0</th>\n",
       "      <td>14676236</td>\n",
       "      <td>2020-06-01</td>\n",
       "      <td>22.070768</td>\n",
       "      <td>0.2652</td>\n",
       "      <td>5.853168</td>\n",
       "    </tr>\n",
       "    <tr>\n",
       "      <th>1</th>\n",
       "      <td>14676236</td>\n",
       "      <td>2020-06-02</td>\n",
       "      <td>19.170720</td>\n",
       "      <td>0.2652</td>\n",
       "      <td>5.084075</td>\n",
       "    </tr>\n",
       "    <tr>\n",
       "      <th>2</th>\n",
       "      <td>14676236</td>\n",
       "      <td>2020-06-03</td>\n",
       "      <td>23.555111</td>\n",
       "      <td>0.2652</td>\n",
       "      <td>6.246815</td>\n",
       "    </tr>\n",
       "    <tr>\n",
       "      <th>3</th>\n",
       "      <td>14676236</td>\n",
       "      <td>2020-06-04</td>\n",
       "      <td>18.220712</td>\n",
       "      <td>0.2652</td>\n",
       "      <td>4.832133</td>\n",
       "    </tr>\n",
       "    <tr>\n",
       "      <th>4</th>\n",
       "      <td>14676236</td>\n",
       "      <td>2020-06-05</td>\n",
       "      <td>14.196134</td>\n",
       "      <td>0.2652</td>\n",
       "      <td>3.764815</td>\n",
       "    </tr>\n",
       "  </tbody>\n",
       "</table>\n",
       "</div>"
      ],
      "text/plain": [
       "   meter_id       date        kwh    rate  cost_per_day\n",
       "0  14676236 2020-06-01  22.070768  0.2652      5.853168\n",
       "1  14676236 2020-06-02  19.170720  0.2652      5.084075\n",
       "2  14676236 2020-06-03  23.555111  0.2652      6.246815\n",
       "3  14676236 2020-06-04  18.220712  0.2652      4.832133\n",
       "4  14676236 2020-06-05  14.196134  0.2652      3.764815"
      ]
     },
     "execution_count": 32,
     "metadata": {},
     "output_type": "execute_result"
    }
   ],
   "source": [
    "forecast_table.head()"
   ]
  },
  {
   "cell_type": "markdown",
   "metadata": {},
   "source": [
    "## Calculating the total cost and total consumption"
   ]
  },
  {
   "cell_type": "code",
   "execution_count": 33,
   "metadata": {},
   "outputs": [],
   "source": [
    "# Calculate the total cost per meter and the total consumption per meter\n",
    "group_by_meterID = forecast_table.groupby('meter_id')\n",
    "total_cost_consumption_per_meter = group_by_meterID.agg({'kwh': 'sum', 'cost_per_day': 'sum'}).reset_index()\n",
    "total_cost_consumption_per_meter.columns = [\n",
    "    'meter_id', \n",
    "    'Total Estimated Consumption [kWh]', \n",
    "    'Total cost [p]'\n",
    "]"
   ]
  },
  {
   "cell_type": "code",
   "execution_count": 34,
   "metadata": {},
   "outputs": [],
   "source": [
    "# Converting cost in pound\n",
    "total_cost_consumption_per_meter['Total_cost [£]'] = total_cost_consumption_per_meter['Total cost [p]']*0.01\n",
    "total_cost_consumption_per_meter['Total_cost [£]'] = np.vectorize(lambda x: round(x, 2), otypes=[float])(total_cost_consumption_per_meter['Total_cost [£]'])\n",
    "transportation_cost_table = total_cost_consumption_per_meter.drop('Total cost [p]', axis=1)"
   ]
  },
  {
   "cell_type": "code",
   "execution_count": 35,
   "metadata": {},
   "outputs": [
    {
     "data": {
      "text/html": [
       "<div>\n",
       "<style scoped>\n",
       "    .dataframe tbody tr th:only-of-type {\n",
       "        vertical-align: middle;\n",
       "    }\n",
       "\n",
       "    .dataframe tbody tr th {\n",
       "        vertical-align: top;\n",
       "    }\n",
       "\n",
       "    .dataframe thead th {\n",
       "        text-align: right;\n",
       "    }\n",
       "</style>\n",
       "<table border=\"1\" class=\"dataframe\">\n",
       "  <thead>\n",
       "    <tr style=\"text-align: right;\">\n",
       "      <th></th>\n",
       "      <th>meter_id</th>\n",
       "      <th>Total Estimated Consumption [kWh]</th>\n",
       "      <th>Total_cost [£]</th>\n",
       "    </tr>\n",
       "  </thead>\n",
       "  <tbody>\n",
       "    <tr>\n",
       "      <th>0</th>\n",
       "      <td>14676236</td>\n",
       "      <td>28978.0</td>\n",
       "      <td>99.45</td>\n",
       "    </tr>\n",
       "    <tr>\n",
       "      <th>1</th>\n",
       "      <td>34509937</td>\n",
       "      <td>78324.0</td>\n",
       "      <td>273.83</td>\n",
       "    </tr>\n",
       "    <tr>\n",
       "      <th>2</th>\n",
       "      <td>50264822</td>\n",
       "      <td>265667.0</td>\n",
       "      <td>726.47</td>\n",
       "    </tr>\n",
       "    <tr>\n",
       "      <th>3</th>\n",
       "      <td>88357331</td>\n",
       "      <td>484399.0</td>\n",
       "      <td>1424.38</td>\n",
       "    </tr>\n",
       "  </tbody>\n",
       "</table>\n",
       "</div>"
      ],
      "text/plain": [
       "   meter_id  Total Estimated Consumption [kWh]  Total_cost [£]\n",
       "0  14676236                            28978.0           99.45\n",
       "1  34509937                            78324.0          273.83\n",
       "2  50264822                           265667.0          726.47\n",
       "3  88357331                           484399.0         1424.38"
      ]
     },
     "execution_count": 35,
     "metadata": {},
     "output_type": "execute_result"
    }
   ],
   "source": [
    "transportation_cost_table"
   ]
  },
  {
   "cell_type": "markdown",
   "metadata": {},
   "source": [
    "# 2. Write a function that generates a list of random meters of any size"
   ]
  },
  {
   "cell_type": "code",
   "execution_count": 36,
   "metadata": {},
   "outputs": [],
   "source": [
    "def generate_meters(valide_exit_zone: List[str]) -> pd.DataFrame:\n",
    "    \"\"\"\n",
    "    - This function generates a list of random meter IDs and random AQ for every\n",
    "      exit zone.\n",
    "    - params:\n",
    "        - valide_exit_zone: list of valide exit zone.\n",
    "    \"\"\"\n",
    "    \n",
    "    n = len(valide_exit_zone)\n",
    "    data = dict()\n",
    "    \n",
    "    # generate random meter IDs\n",
    "    data['meter_id'] = random.sample(range(10000000, 9999999999), n)\n",
    "    \n",
    "    # generate random annual quantity\n",
    "    data['aq_kwh'] = random.sample(range(10000, 999999), n)\n",
    "    \n",
    "    # find unique valid exit zone from rate table\n",
    "    data['exit_zone'] = valide_exit_zone\n",
    "    \n",
    "    meter_table = pd.DataFrame(data)\n",
    "    \n",
    "    return meter_table"
   ]
  },
  {
   "cell_type": "code",
   "execution_count": 38,
   "metadata": {},
   "outputs": [
    {
     "data": {
      "text/html": [
       "<div>\n",
       "<style scoped>\n",
       "    .dataframe tbody tr th:only-of-type {\n",
       "        vertical-align: middle;\n",
       "    }\n",
       "\n",
       "    .dataframe tbody tr th {\n",
       "        vertical-align: top;\n",
       "    }\n",
       "\n",
       "    .dataframe thead th {\n",
       "        text-align: right;\n",
       "    }\n",
       "</style>\n",
       "<table border=\"1\" class=\"dataframe\">\n",
       "  <thead>\n",
       "    <tr style=\"text-align: right;\">\n",
       "      <th></th>\n",
       "      <th>meter_id</th>\n",
       "      <th>aq_kwh</th>\n",
       "      <th>exit_zone</th>\n",
       "    </tr>\n",
       "  </thead>\n",
       "  <tbody>\n",
       "    <tr>\n",
       "      <th>0</th>\n",
       "      <td>2706922423</td>\n",
       "      <td>217299</td>\n",
       "      <td>EA1</td>\n",
       "    </tr>\n",
       "    <tr>\n",
       "      <th>1</th>\n",
       "      <td>7056913858</td>\n",
       "      <td>472857</td>\n",
       "      <td>EA2</td>\n",
       "    </tr>\n",
       "    <tr>\n",
       "      <th>2</th>\n",
       "      <td>8433921185</td>\n",
       "      <td>89449</td>\n",
       "      <td>EA3</td>\n",
       "    </tr>\n",
       "    <tr>\n",
       "      <th>3</th>\n",
       "      <td>2589774114</td>\n",
       "      <td>404503</td>\n",
       "      <td>EA4</td>\n",
       "    </tr>\n",
       "    <tr>\n",
       "      <th>4</th>\n",
       "      <td>8515396460</td>\n",
       "      <td>232587</td>\n",
       "      <td>EM1</td>\n",
       "    </tr>\n",
       "    <tr>\n",
       "      <th>5</th>\n",
       "      <td>8147953724</td>\n",
       "      <td>542205</td>\n",
       "      <td>EM2</td>\n",
       "    </tr>\n",
       "    <tr>\n",
       "      <th>6</th>\n",
       "      <td>3889611597</td>\n",
       "      <td>337365</td>\n",
       "      <td>EM3</td>\n",
       "    </tr>\n",
       "    <tr>\n",
       "      <th>7</th>\n",
       "      <td>4607814367</td>\n",
       "      <td>721555</td>\n",
       "      <td>EM4</td>\n",
       "    </tr>\n",
       "    <tr>\n",
       "      <th>8</th>\n",
       "      <td>4632979955</td>\n",
       "      <td>679662</td>\n",
       "      <td>LC</td>\n",
       "    </tr>\n",
       "    <tr>\n",
       "      <th>9</th>\n",
       "      <td>9356474222</td>\n",
       "      <td>22597</td>\n",
       "      <td>LO</td>\n",
       "    </tr>\n",
       "  </tbody>\n",
       "</table>\n",
       "</div>"
      ],
      "text/plain": [
       "     meter_id  aq_kwh exit_zone\n",
       "0  2706922423  217299       EA1\n",
       "1  7056913858  472857       EA2\n",
       "2  8433921185   89449       EA3\n",
       "3  2589774114  404503       EA4\n",
       "4  8515396460  232587       EM1\n",
       "5  8147953724  542205       EM2\n",
       "6  3889611597  337365       EM3\n",
       "7  4607814367  721555       EM4\n",
       "8  4632979955  679662        LC\n",
       "9  9356474222   22597        LO"
      ]
     },
     "execution_count": 38,
     "metadata": {},
     "output_type": "execute_result"
    }
   ],
   "source": [
    "valide_exit_zone = rate_table['exit_zone'].unique().tolist()\n",
    "generated_meter_table = generate_meters(valide_exit_zone)\n",
    "generated_meter_table.head(10)"
   ]
  },
  {
   "cell_type": "markdown",
   "metadata": {},
   "source": [
    "# 3. Write a function that generates mock consumption data given a list of meters"
   ]
  },
  {
   "cell_type": "code",
   "execution_count": 42,
   "metadata": {},
   "outputs": [],
   "source": [
    "def mock_consumption_data(\n",
    "    meter_list: List[int], \n",
    "    start_date: datetime, \n",
    "    duration: int\n",
    ") -> pd.DataFrame:\n",
    "    \"\"\"\n",
    "    - This function generates mock consumption data given a list of meters\n",
    "    - It returns a dataframe\n",
    "    - params:\n",
    "        - meter_list: a list of meter IDs\n",
    "        - start_date: a start date for the forecast period\n",
    "        - duration: the number of days for the forecast\n",
    "    \"\"\"\n",
    "    # Initializing a list of dataframe\n",
    "    dataframe_list = []\n",
    "    \n",
    "    for meter_id in meter_list:\n",
    "        data = dict()\n",
    "        data['meter_id'] = [meter_id]*duration\n",
    "        \n",
    "        # Generating every single date corresponding to the forecast duration\n",
    "        data['date'] = [start_date + timedelta(days=k) for k in range(duration)]\n",
    "        \n",
    "        # Generating random consumption for the duration of the forecast period\n",
    "        data['kwh'] = [round(float_num,3) for float_num in np.random.uniform(10.01, 599.99, duration).tolist()]\n",
    "        \n",
    "        dataframe_list.append(pd.DataFrame(data))\n",
    "        \n",
    "    # We have a list of dataframe for every meter. We now need to stack \n",
    "    # vertically all dataframes into one dataframe\n",
    "    stacked_dataframe = pd.concat(dataframe_list, axis=0).reset_index()\n",
    "    stacked_dataframe.drop('index', axis=1, inplace=True)\n",
    "        \n",
    "    return stacked_dataframe"
   ]
  },
  {
   "cell_type": "code",
   "execution_count": 43,
   "metadata": {},
   "outputs": [
    {
     "name": "stdout",
     "output_type": "stream",
     "text": [
      "[2706922423, 7056913858, 8433921185, 2589774114, 8515396460, 8147953724, 3889611597, 4607814367, 4632979955, 9356474222, 9863596273, 6221434629, 4321066516, 9930396557, 7345615924, 939161031, 3676155799, 9015788705, 4866724325, 5165204784, 1345670261, 6665326306, 2787665953, 963569546, 2145548558, 91608379, 7277078124, 5173945400, 4666217995, 3311505052, 2737008008, 2785424315, 6370483463, 1423370654, 1699809248, 8615765341, 8313781685, 1177996773]\n"
     ]
    }
   ],
   "source": [
    "meter_list = generated_meter_table.meter_id.to_list()\n",
    "start_date = datetime(2021, 4, 1)\n",
    "duration = 386\n",
    "print(meter_list)"
   ]
  },
  {
   "cell_type": "code",
   "execution_count": 44,
   "metadata": {},
   "outputs": [
    {
     "data": {
      "text/html": [
       "<div>\n",
       "<style scoped>\n",
       "    .dataframe tbody tr th:only-of-type {\n",
       "        vertical-align: middle;\n",
       "    }\n",
       "\n",
       "    .dataframe tbody tr th {\n",
       "        vertical-align: top;\n",
       "    }\n",
       "\n",
       "    .dataframe thead th {\n",
       "        text-align: right;\n",
       "    }\n",
       "</style>\n",
       "<table border=\"1\" class=\"dataframe\">\n",
       "  <thead>\n",
       "    <tr style=\"text-align: right;\">\n",
       "      <th></th>\n",
       "      <th>meter_id</th>\n",
       "      <th>date</th>\n",
       "      <th>kwh</th>\n",
       "    </tr>\n",
       "  </thead>\n",
       "  <tbody>\n",
       "    <tr>\n",
       "      <th>0</th>\n",
       "      <td>2706922423</td>\n",
       "      <td>2021-04-01</td>\n",
       "      <td>83.136</td>\n",
       "    </tr>\n",
       "    <tr>\n",
       "      <th>1</th>\n",
       "      <td>2706922423</td>\n",
       "      <td>2021-04-02</td>\n",
       "      <td>42.310</td>\n",
       "    </tr>\n",
       "    <tr>\n",
       "      <th>2</th>\n",
       "      <td>2706922423</td>\n",
       "      <td>2021-04-03</td>\n",
       "      <td>501.058</td>\n",
       "    </tr>\n",
       "    <tr>\n",
       "      <th>3</th>\n",
       "      <td>2706922423</td>\n",
       "      <td>2021-04-04</td>\n",
       "      <td>523.324</td>\n",
       "    </tr>\n",
       "    <tr>\n",
       "      <th>4</th>\n",
       "      <td>2706922423</td>\n",
       "      <td>2021-04-05</td>\n",
       "      <td>496.964</td>\n",
       "    </tr>\n",
       "    <tr>\n",
       "      <th>5</th>\n",
       "      <td>2706922423</td>\n",
       "      <td>2021-04-06</td>\n",
       "      <td>297.639</td>\n",
       "    </tr>\n",
       "    <tr>\n",
       "      <th>6</th>\n",
       "      <td>2706922423</td>\n",
       "      <td>2021-04-07</td>\n",
       "      <td>291.346</td>\n",
       "    </tr>\n",
       "    <tr>\n",
       "      <th>7</th>\n",
       "      <td>2706922423</td>\n",
       "      <td>2021-04-08</td>\n",
       "      <td>554.638</td>\n",
       "    </tr>\n",
       "    <tr>\n",
       "      <th>8</th>\n",
       "      <td>2706922423</td>\n",
       "      <td>2021-04-09</td>\n",
       "      <td>471.351</td>\n",
       "    </tr>\n",
       "    <tr>\n",
       "      <th>9</th>\n",
       "      <td>2706922423</td>\n",
       "      <td>2021-04-10</td>\n",
       "      <td>332.462</td>\n",
       "    </tr>\n",
       "  </tbody>\n",
       "</table>\n",
       "</div>"
      ],
      "text/plain": [
       "     meter_id       date      kwh\n",
       "0  2706922423 2021-04-01   83.136\n",
       "1  2706922423 2021-04-02   42.310\n",
       "2  2706922423 2021-04-03  501.058\n",
       "3  2706922423 2021-04-04  523.324\n",
       "4  2706922423 2021-04-05  496.964\n",
       "5  2706922423 2021-04-06  297.639\n",
       "6  2706922423 2021-04-07  291.346\n",
       "7  2706922423 2021-04-08  554.638\n",
       "8  2706922423 2021-04-09  471.351\n",
       "9  2706922423 2021-04-10  332.462"
      ]
     },
     "execution_count": 44,
     "metadata": {},
     "output_type": "execute_result"
    }
   ],
   "source": [
    "forecast_data = mock_consumption_data(meter_list, start_date, duration)\n",
    "forecast_data.head(10)"
   ]
  },
  {
   "cell_type": "markdown",
   "metadata": {},
   "source": [
    "## 4. Write a function that takes as an input a meter list and a consumption forecast table and that calculates the transportation cost table"
   ]
  },
  {
   "cell_type": "code",
   "execution_count": 45,
   "metadata": {},
   "outputs": [],
   "source": [
    "def find_rate(\n",
    "    meter_id: int,\n",
    "    date: datetime,\n",
    "    meter_zone_dict: dict,\n",
    "    meter_aq_dict: dict,\n",
    "    rate_table: pd.DataFrame\n",
    ") -> float:\n",
    "    \n",
    "    cond = ((rate_table.exit_zone == meter_zone_dict[meter_id]) & \n",
    "            (rate_table.aq_min_kwh <= meter_aq_dict[meter_id]) & \n",
    "            (rate_table.aq_max_kwh > meter_aq_dict[meter_id]))\n",
    "    rate_per_meter_table = rate_table[cond]\n",
    "\n",
    "    if datetime(2020, 4, 1) <= date < datetime(2020, 9, 30):\n",
    "        return rate_per_meter_table.iloc[0, 4]\n",
    "    if datetime(2020, 10, 1) <= date < datetime(2021, 3, 31):\n",
    "        return rate_per_meter_table.iloc[1, 4]\n",
    "    if datetime(2021, 4, 1) <= date < datetime(2021, 9, 30):\n",
    "        return rate_per_meter_table.iloc[2, 4]\n",
    "    if datetime(2021, 10, 1) <= date < datetime(2022, 3, 31):\n",
    "        return rate_per_meter_table.iloc[3, 4]\n",
    "    if datetime(2022, 4, 1) <= date < datetime(2022, 9, 30):\n",
    "        return rate_per_meter_table.iloc[4, 4]\n",
    "    if datetime(2022, 10, 1) <= date < datetime(2023, 3, 31):\n",
    "        return rate_per_meter_table.iloc[5, 4]\n",
    "    if datetime(2023, 4, 1) <= date < datetime(2023, 9, 30):\n",
    "        return rate_per_meter_table.iloc[6, 4]\n",
    "    if datetime(2023, 10, 1) <= date < datetime(2024, 3, 31):\n",
    "        return rate_per_meter_table.iloc[7, 4]\n",
    "    if datetime(2024, 4, 1) <= date < datetime(2024, 9, 30):\n",
    "        return rate_per_meter_table.iloc[8, 4]\n",
    "    if datetime(2024, 10, 1) <= date < datetime(2025, 3, 31):\n",
    "        return rate_per_meter_table.iloc[9, 4]"
   ]
  },
  {
   "cell_type": "code",
   "execution_count": 46,
   "metadata": {},
   "outputs": [],
   "source": [
    "def calculate_transportation_cost(\n",
    "    rate_table: pd.DataFrame,\n",
    "    start_date: datetime,\n",
    "    duration: int\n",
    ") -> pd.DataFrame:\n",
    "    \"\"\"\n",
    "    - This function takes as input: meter_list and forecast_table.\n",
    "    - returns the transportation cost table: task1's final result.\n",
    "    \"\"\"\n",
    "    start = time.perf_counter()\n",
    "\n",
    "    # generate meters\n",
    "    valide_exit_zone = rate_table['exit_zone'].unique().tolist()\n",
    "    generated_meter_table = generate_meters(valide_exit_zone)\n",
    "    meter_list = generated_meter_table.meter_id.to_list()\n",
    "\n",
    "    # Mapping meter ID to exit zone\n",
    "    meter_zone_dict = {row.meter_id: row.exit_zone for row in generated_meter_table.itertuples()}\n",
    "    \n",
    "    # Mapping meter ID to AQ\n",
    "    meter_aq_dict = {row.meter_id: row.aq_kwh for row in generated_meter_table.itertuples()}\n",
    "\n",
    "    # consumption data\n",
    "    forecast_data = mock_consumption_data(meter_list, start_date, duration)\n",
    "    \n",
    "    # Adding rate to forecast table\n",
    "    forecast_data['rate'] = np.vectorize(find_rate, otypes=[float])(forecast_data['meter_id'], forecast_data['date'])\n",
    "    \n",
    "    # Calculate the cost per day for each meter\n",
    "    forecast_data['cost_per_day'] = np.vectorize(lambda x,y: x*y, otypes=[float])(forecast_data['kwh'], forecast_data['rate_per_day'])\n",
    "    \n",
    "    # Calculate the total cost per meter and the total consumption per meter\n",
    "    group_by_meterID = forecast_data.groupby('meter_id')\n",
    "    total_cost_consumption_per_meter = group_by_meterID.agg({'kwh': 'sum', 'cost_per_day': 'sum'}).reset_index()\n",
    "    total_cost_consumption_per_meter.columns = [\n",
    "        'meter_id', \n",
    "        'Total Estimated Consumption [kWh]', \n",
    "        'Total cost [p]'\n",
    "    ]\n",
    "    \n",
    "    # Converting cost in pound\n",
    "    total_cost_consumption_per_meter['Total_cost [£]'] = total_cost_consumption_per_meter['Total cost [p]']*0.01\n",
    "    total_cost_consumption_per_meter['Total_cost [£]'] = np.vectorize(lambda x: round(x, 2), otypes=[float])(total_cost_consumption_per_meter['Total_cost [£]'])\n",
    "    transportation_cost_table = total_cost_consumption_per_meter.drop('Total cost [p]', axis=1)\n",
    "                                                                                                                       \n",
    "    stop = time.perf_counter()\n",
    "    print(f\"Completed Execution in {stop - start} seconds\\n\")\n",
    "    \n",
    "    return transportation_cost_table"
   ]
  },
  {
   "cell_type": "code",
   "execution_count": null,
   "metadata": {},
   "outputs": [],
   "source": [
    "transportation_cost = calculate_transportation_cost(rate_table, datetime(2021, 4, 1), 386)"
   ]
  }
 ],
 "metadata": {
  "kernelspec": {
   "display_name": "jupyterenv",
   "language": "python",
   "name": "jupyterenv"
  },
  "language_info": {
   "codemirror_mode": {
    "name": "ipython",
    "version": 3
   },
   "file_extension": ".py",
   "mimetype": "text/x-python",
   "name": "python",
   "nbconvert_exporter": "python",
   "pygments_lexer": "ipython3",
   "version": "3.10.4"
  },
  "orig_nbformat": 4
 },
 "nbformat": 4,
 "nbformat_minor": 2
}
